{
 "cells": [
  {
   "cell_type": "markdown",
   "metadata": {},
   "source": [
    "## Business Understanding\n",
    "Following the previous notebook, I will explain the third question in this notebook\n",
    "1. What are the busiest times to visit Boston and Seattle? By how much do prices spike?\n",
    "2. How well can we predict the price of the listing? Which features affect the price the most?\n",
    "3. **Which kind of host tends to have a better review?**"
   ]
  },
  {
   "cell_type": "markdown",
   "metadata": {},
   "source": [
    "## Data Understanding"
   ]
  },
  {
   "cell_type": "code",
   "execution_count": 1,
   "metadata": {},
   "outputs": [],
   "source": [
    "import numpy as np\n",
    "import pandas as pd\n",
    "import matplotlib.pyplot as plt\n",
    "import seaborn as sns\n",
    "from sklearn.model_selection import train_test_split\n",
    "from sklearn.metrics import r2_score, mean_squared_error, mean_absolute_error\n",
    "from sklearn.ensemble import RandomForestRegressor\n",
    "from datetime import datetime,timedelta"
   ]
  },
  {
   "cell_type": "code",
   "execution_count": null,
   "metadata": {},
   "outputs": [],
   "source": [
    "%matplotlib inline\n",
    "\n",
    "df_listings_bos = pd.read_csv('./boston/listings.csv')\n",
    "\n",
    "df_listings_sea = pd.read_csv('./seattle/listings.csv')"
   ]
  },
  {
   "cell_type": "code",
   "execution_count": null,
   "metadata": {
    "scrolled": true
   },
   "outputs": [],
   "source": [
    "df_listings_bos.info()"
   ]
  },
  {
   "cell_type": "code",
   "execution_count": null,
   "metadata": {},
   "outputs": [],
   "source": [
    "def clean_data(df):\n",
    "    '''\n",
    "    INPUT:\n",
    "    df - pandas dataframe you want to clean\n",
    "    is_bos - if the dataset is df_listings_bos, in order to reuse this function for Seattle's dataset\n",
    "    \n",
    "    OUTPUT:\n",
    "    df - a new dataframe that has the following characteristics:\n",
    "            1. include only the columns related to host and review\n",
    "            2. Remove $ sign in \"price\" and convert the string into float\n",
    "            3. Remove % sign in \"host_response_rate\", \"host_acceptance_rate\" and convert the string into float\n",
    "            4. Drop the rows without review\n",
    "            5. Convert t/f into binary True/False\n",
    "            6. Create a column \"host_about_exist\" showing if the about section of the host exist\n",
    "            7. Convert string to datetime\n",
    "            8. Created host_for_days and get the number of days till now after host created account\n",
    "            9. Drop the rows without bathroom, bedroom, host_location ,bed and property_type since they only have very few missing value\n",
    "    '''\n",
    "    # include columns related to host\n",
    "    host_columns = ['price', 'host_name', 'host_since', 'host_location','host_about',\n",
    "                    'host_response_time', 'host_response_rate', 'host_acceptance_rate', 'host_is_superhost',\n",
    "                    'host_neighbourhood', 'host_listings_count', 'host_total_listings_count', 'host_verifications',\n",
    "                    'host_has_profile_pic', 'host_identity_verified'\n",
    "                   ]\n",
    "    # include columns related to review\n",
    "    review_columns = ['number_of_reviews', 'review_scores_rating', 'review_scores_accuracy', 'review_scores_cleanliness',\n",
    "                     'review_scores_checkin', 'review_scores_communication', 'review_scores_location',\n",
    "                     'review_scores_value']\n",
    "    \n",
    "    df = df[host_columns + review_columns].copy()\n",
    "    \n",
    "    # Remove $ sign in \"price\" and convert the string into float\n",
    "    df['price'] = df['price'].str.replace(\"[$, ]\", \"\").astype(\"float\")\n",
    "    \n",
    "    # Remove % sign in \"host_response_rate\", \"host_acceptance_rate\" and convert the string into float\n",
    "    df['host_response_rate'] = df['host_response_rate'].map(lambda r: str(r).replace('%','')).astype(\"float\")\n",
    "    df['host_acceptance_rate'] = df['host_acceptance_rate'].map(lambda r: str(r).replace('%','')).astype(\"float\")\n",
    "    \n",
    "    # Drop the rows without review since we are analysis reviews\n",
    "    df.dropna(subset=review_columns, inplace=True)\n",
    "\n",
    "    \n",
    "    # Convert t/f into binary True/False\n",
    "    df[\"host_is_superhost\"]=df[\"host_is_superhost\"].apply(lambda x:True if x==\"t\" else False)\n",
    "    df[\"host_has_profile_pic\"]=df[\"host_has_profile_pic\"].apply(lambda x:True if x==\"t\" else False)\n",
    "    df[\"host_identity_verified\"]=df[\"host_identity_verified\"].apply(lambda x:True if x==\"t\" else False)\n",
    "    \n",
    "    # For simplicity we only want to know if the host fill in the about section\n",
    "    df[\"host_about\"]= df[\"host_about\"].fillna(False)\n",
    "    df[\"host_about_exist\"]=df[\"host_about\"].apply(lambda x:True if x else False)\n",
    "    \n",
    "    \n",
    "\n",
    "    # Convert string to datetime\n",
    "    df[\"host_since\"] = pd.to_datetime(df[\"host_since\"])\n",
    "    \n",
    "    \n",
    "    # Created host_for_days and get the number of days till now after host created account\n",
    "    today = pd.to_datetime(datetime.now())\n",
    "    result = today - df[\"host_since\"]\n",
    "    df[\"host_for_days\"] = result.apply(lambda x: x.days)\n",
    "    \n",
    "    \n",
    "    df.drop(columns=[\"host_about\", \"host_since\"], inplace=True)\n",
    "    \n",
    "    # Drop the rows without bathroom, bedroom, host_location ,bed and property_type since they only have very few missing value\n",
    "    df.dropna(subset=[\"host_location\", \"host_response_time\", \"host_response_rate\", \"host_acceptance_rate\", \"host_neighbourhood\"], inplace=True)\n",
    "    \n",
    "    return df\n",
    "\n",
    "df_listings_bos = clean_data(df_listings_bos)\n",
    "df_listings_sea = clean_data(df_listings_sea)"
   ]
  },
  {
   "cell_type": "code",
   "execution_count": null,
   "metadata": {},
   "outputs": [],
   "source": [
    "df_listings_bos.info()"
   ]
  },
  {
   "cell_type": "code",
   "execution_count": null,
   "metadata": {},
   "outputs": [],
   "source": [
    "df_listings_sea.info()"
   ]
  },
  {
   "cell_type": "code",
   "execution_count": null,
   "metadata": {},
   "outputs": [],
   "source": [
    "plt.figure(figsize=(10,9))\n",
    "plt.title('Price distribution in Seattle')\n",
    "ax = sns.histplot(df_listings_sea['review_scores_rating'])\n",
    "df_listings_sea['review_scores_rating'].describe()"
   ]
  },
  {
   "cell_type": "code",
   "execution_count": null,
   "metadata": {},
   "outputs": [],
   "source": [
    "plt.figure(figsize=(10,9))\n",
    "plt.title('Price distribution in Seattle')\n",
    "ax = sns.histplot(df_listings_bos['review_scores_rating'])\n",
    "df_listings_bos['review_scores_rating'].describe()"
   ]
  },
  {
   "cell_type": "markdown",
   "metadata": {},
   "source": [
    "We extract the review rating with the information of the host and see if there is any correlation."
   ]
  },
  {
   "cell_type": "code",
   "execution_count": null,
   "metadata": {
    "scrolled": true
   },
   "outputs": [],
   "source": [
    "corr = df_listings_bos.select_dtypes(include=['int64', 'float64']).corr()\n",
    "_mask = np.zeros_like(corr)\n",
    "_mask[np.triu_indices_from(_mask)] = True\n",
    "plt.figure(figsize=(24,12))\n",
    "plt.title('Heatmap of corr of features in Boston')\n",
    "sns.heatmap(corr, mask = _mask, vmax=.3, square=True, annot=True, fmt='.2f', cmap='coolwarm')\n",
    "plt.show()"
   ]
  },
  {
   "cell_type": "code",
   "execution_count": null,
   "metadata": {
    "scrolled": true
   },
   "outputs": [],
   "source": [
    "corr = df_listings_sea.select_dtypes(include=['int64', 'float64']).corr()\n",
    "_mask = np.zeros_like(corr)\n",
    "_mask[np.triu_indices_from(_mask)] = True\n",
    "plt.figure(figsize=(24,12))\n",
    "plt.title('Heatmap of corr of features in Seattle')\n",
    "sns.heatmap(corr, mask = _mask, vmax=.3, square=True, annot=True, fmt='.2f', cmap='coolwarm')\n",
    "plt.show()"
   ]
  },
  {
   "cell_type": "markdown",
   "metadata": {},
   "source": [
    "From the graph, there are a few takeaways:\n",
    "1. The host with a higher response rate tends to have a better review.\n",
    "2. A higher acceptance rate will also increase the review rating in Boston but not Seattle.\n",
    "3. The host with more listing counts tends to have a bad review, especially during check-in.\n",
    "4. The higher the price doesn’t mean having a better review nor having a bad rating in value (worth the price)."
   ]
  },
  {
   "cell_type": "markdown",
   "metadata": {},
   "source": [
    "## host_response_time\n",
    "We also want to know if the response time of the host affect the review"
   ]
  },
  {
   "cell_type": "code",
   "execution_count": null,
   "metadata": {},
   "outputs": [],
   "source": [
    "plt.figure(figsize=(25,10))\n",
    "plt.title(\"host_response_time vs review_scores_rating in Boston\")\n",
    "\n",
    "sns.boxplot(data=df_listings_bos, x='host_response_time', y='review_scores_rating')\n",
    "ax = plt.gca()\n",
    "ax.set_xticklabels(ax.get_xticklabels(), rotation=45, ha='right', fontsize=15)\n",
    "\n",
    "plt.ylim([50,102])\n",
    "plt.show()"
   ]
  },
  {
   "cell_type": "code",
   "execution_count": null,
   "metadata": {
    "scrolled": true
   },
   "outputs": [],
   "source": [
    "plt.figure(figsize=(25,10))\n",
    "plt.title(\"host_response_time vs review_scores_rating in Seattle\")\n",
    "\n",
    "sns.boxplot(data=df_listings_sea, x='host_response_time', y='review_scores_rating')\n",
    "ax = plt.gca()\n",
    "ax.set_xticklabels(ax.get_xticklabels(), rotation=45, ha='right', fontsize=15)\n",
    "\n",
    "plt.ylim([50,102])\n",
    "plt.show()"
   ]
  },
  {
   "cell_type": "markdown",
   "metadata": {},
   "source": [
    "In both graphs, the review rating is similar as long as the host response time is within a day. However, if the host response took a few days or more, the average rating will be generally lower."
   ]
  },
  {
   "cell_type": "markdown",
   "metadata": {},
   "source": [
    "## host_is_superhost"
   ]
  },
  {
   "cell_type": "code",
   "execution_count": null,
   "metadata": {},
   "outputs": [],
   "source": [
    "plt.figure(figsize=(25,10))\n",
    "plt.title(\"The effect of superhost on rating in Boston\")\n",
    "\n",
    "sns.boxplot(data=df_listings_bos, x='host_is_superhost', y='review_scores_rating')\n",
    "ax = plt.gca()\n",
    "ax.set_xticklabels(ax.get_xticklabels(), rotation=45, ha='right', fontsize=15)\n",
    "\n",
    "plt.ylim([60,102])\n",
    "plt.show()"
   ]
  },
  {
   "cell_type": "code",
   "execution_count": null,
   "metadata": {},
   "outputs": [],
   "source": [
    "plt.figure(figsize=(25,10))\n",
    "plt.title(\"The effect of superhost on rating in Seattle\")\n",
    "\n",
    "sns.boxplot(data=df_listings_sea, x='host_is_superhost', y='review_scores_rating')\n",
    "ax = plt.gca()\n",
    "ax.set_xticklabels(ax.get_xticklabels(), rotation=45, ha='right', fontsize=15)\n",
    "\n",
    "plt.ylim([60,102])\n",
    "plt.show()"
   ]
  },
  {
   "cell_type": "markdown",
   "metadata": {},
   "source": [
    "From both graph, the superhost have significantly higher and stable review (mostly >90%) than those who are not"
   ]
  },
  {
   "cell_type": "markdown",
   "metadata": {},
   "source": [
    "## host_has_profile_pic"
   ]
  },
  {
   "cell_type": "code",
   "execution_count": null,
   "metadata": {},
   "outputs": [],
   "source": [
    "df_listings_bos.host_has_profile_pic.value_counts()"
   ]
  },
  {
   "cell_type": "code",
   "execution_count": null,
   "metadata": {
    "scrolled": true
   },
   "outputs": [],
   "source": [
    "df_listings_sea.host_has_profile_pic.value_counts()"
   ]
  },
  {
   "cell_type": "markdown",
   "metadata": {},
   "source": [
    "Since there are too little amount of host doesn't have a profile pic. We can drop this column"
   ]
  },
  {
   "cell_type": "markdown",
   "metadata": {},
   "source": [
    "## host_identity_verified"
   ]
  },
  {
   "cell_type": "code",
   "execution_count": null,
   "metadata": {},
   "outputs": [],
   "source": [
    "plt.figure(figsize=(25,10))\n",
    "plt.title(\"host_identity_verified vs rating in Boston\")\n",
    "\n",
    "sns.boxplot(data=df_listings_bos, x='host_identity_verified', y='review_scores_rating')\n",
    "ax = plt.gca()\n",
    "ax.set_xticklabels(ax.get_xticklabels(), rotation=45, ha='right', fontsize=15)\n",
    "\n",
    "plt.ylim([60,102])\n",
    "plt.show()"
   ]
  },
  {
   "cell_type": "code",
   "execution_count": null,
   "metadata": {
    "scrolled": true
   },
   "outputs": [],
   "source": [
    "plt.figure(figsize=(25,10))\n",
    "plt.title(\"host_identity_verified vs rating in Seattle\")\n",
    "\n",
    "sns.boxplot(data=df_listings_sea, x='host_identity_verified', y='review_scores_rating')\n",
    "ax = plt.gca()\n",
    "ax.set_xticklabels(ax.get_xticklabels(), rotation=45, ha='right', fontsize=15)\n",
    "\n",
    "plt.ylim([60,102])\n",
    "plt.show()"
   ]
  },
  {
   "cell_type": "markdown",
   "metadata": {},
   "source": [
    "The review is slightly higher for those host who identity is verified"
   ]
  },
  {
   "cell_type": "markdown",
   "metadata": {},
   "source": [
    "## host_about_exist"
   ]
  },
  {
   "cell_type": "code",
   "execution_count": null,
   "metadata": {},
   "outputs": [],
   "source": [
    "plt.figure(figsize=(25,10))\n",
    "plt.title(\"The existance of host about section effect on rating in Boston\")\n",
    "\n",
    "sns.boxplot(data=df_listings_bos, x='host_about_exist', y='review_scores_rating')\n",
    "ax = plt.gca()\n",
    "ax.set_xticklabels(ax.get_xticklabels(), rotation=45, ha='right', fontsize=15)\n",
    "\n",
    "plt.ylim([60,102])\n",
    "plt.show()"
   ]
  },
  {
   "cell_type": "code",
   "execution_count": null,
   "metadata": {},
   "outputs": [],
   "source": [
    "plt.figure(figsize=(25,10))\n",
    "plt.title(\"The existance of host about section effect on rating in Seattle\")\n",
    "\n",
    "sns.boxplot(data=df_listings_sea, x='host_about_exist', y='review_scores_rating')\n",
    "ax = plt.gca()\n",
    "ax.set_xticklabels(ax.get_xticklabels(), rotation=45, ha='right', fontsize=15)\n",
    "\n",
    "plt.ylim([60,102])\n",
    "plt.show()"
   ]
  },
  {
   "cell_type": "markdown",
   "metadata": {},
   "source": [
    "There are not much difference in average review on whether the host filled in the about section or not. Except, the variance of reviews for those who filled in the about is slightly smaller."
   ]
  },
  {
   "cell_type": "code",
   "execution_count": null,
   "metadata": {},
   "outputs": [],
   "source": []
  }
 ],
 "metadata": {
  "kernelspec": {
   "display_name": "Python 3",
   "language": "python",
   "name": "python3"
  },
  "language_info": {
   "codemirror_mode": {
    "name": "ipython",
    "version": 3
   },
   "file_extension": ".py",
   "mimetype": "text/x-python",
   "name": "python",
   "nbconvert_exporter": "python",
   "pygments_lexer": "ipython3",
   "version": "3.8.5"
  }
 },
 "nbformat": 4,
 "nbformat_minor": 4
}
