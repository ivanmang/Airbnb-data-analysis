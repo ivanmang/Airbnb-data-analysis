{
 "cells": [
  {
   "cell_type": "markdown",
   "metadata": {},
   "source": [
    "# Load Data and Libraries"
   ]
  },
  {
   "cell_type": "code",
   "execution_count": 1,
   "metadata": {},
   "outputs": [],
   "source": [
    "import numpy as np\n",
    "import pandas as pd\n",
    "import matplotlib.pyplot as plt\n",
    "import seaborn as sns"
   ]
  },
  {
   "cell_type": "code",
   "execution_count": 2,
   "metadata": {},
   "outputs": [],
   "source": [
    "%matplotlib inline\n",
    "\n",
    "df_listings_bos = pd.read_csv('./boston/listings.csv')\n",
    "#df_calendar_bos = pd.read_csv('./boston/calendar.csv')\n",
    "#df_review_bos = pd.read_csv('./boston/reviews.csv')\n",
    "\n",
    "df_listings_sea = pd.read_csv('./seattle/listings.csv')\n",
    "#df_calendar_sea = pd.read_csv('./seattle/calendar.csv')\n",
    "#df_review_sea = pd.read_csv('./seattle/reviews.csv')"
   ]
  },
  {
   "cell_type": "code",
   "execution_count": 3,
   "metadata": {
    "scrolled": true
   },
   "outputs": [
    {
     "name": "stdout",
     "output_type": "stream",
     "text": [
      "<class 'pandas.core.frame.DataFrame'>\n",
      "RangeIndex: 3585 entries, 0 to 3584\n",
      "Data columns (total 95 columns):\n",
      " #   Column                            Non-Null Count  Dtype  \n",
      "---  ------                            --------------  -----  \n",
      " 0   id                                3585 non-null   int64  \n",
      " 1   listing_url                       3585 non-null   object \n",
      " 2   scrape_id                         3585 non-null   int64  \n",
      " 3   last_scraped                      3585 non-null   object \n",
      " 4   name                              3585 non-null   object \n",
      " 5   summary                           3442 non-null   object \n",
      " 6   space                             2528 non-null   object \n",
      " 7   description                       3585 non-null   object \n",
      " 8   experiences_offered               3585 non-null   object \n",
      " 9   neighborhood_overview             2170 non-null   object \n",
      " 10  notes                             1610 non-null   object \n",
      " 11  transit                           2295 non-null   object \n",
      " 12  access                            2096 non-null   object \n",
      " 13  interaction                       2031 non-null   object \n",
      " 14  house_rules                       2393 non-null   object \n",
      " 15  thumbnail_url                     2986 non-null   object \n",
      " 16  medium_url                        2986 non-null   object \n",
      " 17  picture_url                       3585 non-null   object \n",
      " 18  xl_picture_url                    2986 non-null   object \n",
      " 19  host_id                           3585 non-null   int64  \n",
      " 20  host_url                          3585 non-null   object \n",
      " 21  host_name                         3585 non-null   object \n",
      " 22  host_since                        3585 non-null   object \n",
      " 23  host_location                     3574 non-null   object \n",
      " 24  host_about                        2276 non-null   object \n",
      " 25  host_response_time                3114 non-null   object \n",
      " 26  host_response_rate                3114 non-null   object \n",
      " 27  host_acceptance_rate              3114 non-null   object \n",
      " 28  host_is_superhost                 3585 non-null   object \n",
      " 29  host_thumbnail_url                3585 non-null   object \n",
      " 30  host_picture_url                  3585 non-null   object \n",
      " 31  host_neighbourhood                3246 non-null   object \n",
      " 32  host_listings_count               3585 non-null   int64  \n",
      " 33  host_total_listings_count         3585 non-null   int64  \n",
      " 34  host_verifications                3585 non-null   object \n",
      " 35  host_has_profile_pic              3585 non-null   object \n",
      " 36  host_identity_verified            3585 non-null   object \n",
      " 37  street                            3585 non-null   object \n",
      " 38  neighbourhood                     3042 non-null   object \n",
      " 39  neighbourhood_cleansed            3585 non-null   object \n",
      " 40  neighbourhood_group_cleansed      0 non-null      float64\n",
      " 41  city                              3583 non-null   object \n",
      " 42  state                             3585 non-null   object \n",
      " 43  zipcode                           3547 non-null   object \n",
      " 44  market                            3571 non-null   object \n",
      " 45  smart_location                    3585 non-null   object \n",
      " 46  country_code                      3585 non-null   object \n",
      " 47  country                           3585 non-null   object \n",
      " 48  latitude                          3585 non-null   float64\n",
      " 49  longitude                         3585 non-null   float64\n",
      " 50  is_location_exact                 3585 non-null   object \n",
      " 51  property_type                     3582 non-null   object \n",
      " 52  room_type                         3585 non-null   object \n",
      " 53  accommodates                      3585 non-null   int64  \n",
      " 54  bathrooms                         3571 non-null   float64\n",
      " 55  bedrooms                          3575 non-null   float64\n",
      " 56  beds                              3576 non-null   float64\n",
      " 57  bed_type                          3585 non-null   object \n",
      " 58  amenities                         3585 non-null   object \n",
      " 59  square_feet                       56 non-null     float64\n",
      " 60  price                             3585 non-null   object \n",
      " 61  weekly_price                      892 non-null    object \n",
      " 62  monthly_price                     888 non-null    object \n",
      " 63  security_deposit                  1342 non-null   object \n",
      " 64  cleaning_fee                      2478 non-null   object \n",
      " 65  guests_included                   3585 non-null   int64  \n",
      " 66  extra_people                      3585 non-null   object \n",
      " 67  minimum_nights                    3585 non-null   int64  \n",
      " 68  maximum_nights                    3585 non-null   int64  \n",
      " 69  calendar_updated                  3585 non-null   object \n",
      " 70  has_availability                  0 non-null      float64\n",
      " 71  availability_30                   3585 non-null   int64  \n",
      " 72  availability_60                   3585 non-null   int64  \n",
      " 73  availability_90                   3585 non-null   int64  \n",
      " 74  availability_365                  3585 non-null   int64  \n",
      " 75  calendar_last_scraped             3585 non-null   object \n",
      " 76  number_of_reviews                 3585 non-null   int64  \n",
      " 77  first_review                      2829 non-null   object \n",
      " 78  last_review                       2829 non-null   object \n",
      " 79  review_scores_rating              2772 non-null   float64\n",
      " 80  review_scores_accuracy            2762 non-null   float64\n",
      " 81  review_scores_cleanliness         2767 non-null   float64\n",
      " 82  review_scores_checkin             2765 non-null   float64\n",
      " 83  review_scores_communication       2767 non-null   float64\n",
      " 84  review_scores_location            2763 non-null   float64\n",
      " 85  review_scores_value               2764 non-null   float64\n",
      " 86  requires_license                  3585 non-null   object \n",
      " 87  license                           0 non-null      float64\n",
      " 88  jurisdiction_names                0 non-null      float64\n",
      " 89  instant_bookable                  3585 non-null   object \n",
      " 90  cancellation_policy               3585 non-null   object \n",
      " 91  require_guest_profile_picture     3585 non-null   object \n",
      " 92  require_guest_phone_verification  3585 non-null   object \n",
      " 93  calculated_host_listings_count    3585 non-null   int64  \n",
      " 94  reviews_per_month                 2829 non-null   float64\n",
      "dtypes: float64(18), int64(15), object(62)\n",
      "memory usage: 2.6+ MB\n"
     ]
    }
   ],
   "source": [
    "df_listings_bos.info()"
   ]
  },
  {
   "cell_type": "code",
   "execution_count": 4,
   "metadata": {},
   "outputs": [
    {
     "name": "stdout",
     "output_type": "stream",
     "text": [
      "<class 'pandas.core.frame.DataFrame'>\n",
      "RangeIndex: 3818 entries, 0 to 3817\n",
      "Data columns (total 92 columns):\n",
      " #   Column                            Non-Null Count  Dtype  \n",
      "---  ------                            --------------  -----  \n",
      " 0   id                                3818 non-null   int64  \n",
      " 1   listing_url                       3818 non-null   object \n",
      " 2   scrape_id                         3818 non-null   int64  \n",
      " 3   last_scraped                      3818 non-null   object \n",
      " 4   name                              3818 non-null   object \n",
      " 5   summary                           3641 non-null   object \n",
      " 6   space                             3249 non-null   object \n",
      " 7   description                       3818 non-null   object \n",
      " 8   experiences_offered               3818 non-null   object \n",
      " 9   neighborhood_overview             2786 non-null   object \n",
      " 10  notes                             2212 non-null   object \n",
      " 11  transit                           2884 non-null   object \n",
      " 12  thumbnail_url                     3498 non-null   object \n",
      " 13  medium_url                        3498 non-null   object \n",
      " 14  picture_url                       3818 non-null   object \n",
      " 15  xl_picture_url                    3498 non-null   object \n",
      " 16  host_id                           3818 non-null   int64  \n",
      " 17  host_url                          3818 non-null   object \n",
      " 18  host_name                         3816 non-null   object \n",
      " 19  host_since                        3816 non-null   object \n",
      " 20  host_location                     3810 non-null   object \n",
      " 21  host_about                        2959 non-null   object \n",
      " 22  host_response_time                3295 non-null   object \n",
      " 23  host_response_rate                3295 non-null   object \n",
      " 24  host_acceptance_rate              3045 non-null   object \n",
      " 25  host_is_superhost                 3816 non-null   object \n",
      " 26  host_thumbnail_url                3816 non-null   object \n",
      " 27  host_picture_url                  3816 non-null   object \n",
      " 28  host_neighbourhood                3518 non-null   object \n",
      " 29  host_listings_count               3816 non-null   float64\n",
      " 30  host_total_listings_count         3816 non-null   float64\n",
      " 31  host_verifications                3818 non-null   object \n",
      " 32  host_has_profile_pic              3816 non-null   object \n",
      " 33  host_identity_verified            3816 non-null   object \n",
      " 34  street                            3818 non-null   object \n",
      " 35  neighbourhood                     3402 non-null   object \n",
      " 36  neighbourhood_cleansed            3818 non-null   object \n",
      " 37  neighbourhood_group_cleansed      3818 non-null   object \n",
      " 38  city                              3818 non-null   object \n",
      " 39  state                             3818 non-null   object \n",
      " 40  zipcode                           3811 non-null   object \n",
      " 41  market                            3818 non-null   object \n",
      " 42  smart_location                    3818 non-null   object \n",
      " 43  country_code                      3818 non-null   object \n",
      " 44  country                           3818 non-null   object \n",
      " 45  latitude                          3818 non-null   float64\n",
      " 46  longitude                         3818 non-null   float64\n",
      " 47  is_location_exact                 3818 non-null   object \n",
      " 48  property_type                     3817 non-null   object \n",
      " 49  room_type                         3818 non-null   object \n",
      " 50  accommodates                      3818 non-null   int64  \n",
      " 51  bathrooms                         3802 non-null   float64\n",
      " 52  bedrooms                          3812 non-null   float64\n",
      " 53  beds                              3817 non-null   float64\n",
      " 54  bed_type                          3818 non-null   object \n",
      " 55  amenities                         3818 non-null   object \n",
      " 56  square_feet                       97 non-null     float64\n",
      " 57  price                             3818 non-null   object \n",
      " 58  weekly_price                      2009 non-null   object \n",
      " 59  monthly_price                     1517 non-null   object \n",
      " 60  security_deposit                  1866 non-null   object \n",
      " 61  cleaning_fee                      2788 non-null   object \n",
      " 62  guests_included                   3818 non-null   int64  \n",
      " 63  extra_people                      3818 non-null   object \n",
      " 64  minimum_nights                    3818 non-null   int64  \n",
      " 65  maximum_nights                    3818 non-null   int64  \n",
      " 66  calendar_updated                  3818 non-null   object \n",
      " 67  has_availability                  3818 non-null   object \n",
      " 68  availability_30                   3818 non-null   int64  \n",
      " 69  availability_60                   3818 non-null   int64  \n",
      " 70  availability_90                   3818 non-null   int64  \n",
      " 71  availability_365                  3818 non-null   int64  \n",
      " 72  calendar_last_scraped             3818 non-null   object \n",
      " 73  number_of_reviews                 3818 non-null   int64  \n",
      " 74  first_review                      3191 non-null   object \n",
      " 75  last_review                       3191 non-null   object \n",
      " 76  review_scores_rating              3171 non-null   float64\n",
      " 77  review_scores_accuracy            3160 non-null   float64\n",
      " 78  review_scores_cleanliness         3165 non-null   float64\n",
      " 79  review_scores_checkin             3160 non-null   float64\n",
      " 80  review_scores_communication       3167 non-null   float64\n",
      " 81  review_scores_location            3163 non-null   float64\n",
      " 82  review_scores_value               3162 non-null   float64\n",
      " 83  requires_license                  3818 non-null   object \n",
      " 84  license                           0 non-null      float64\n",
      " 85  jurisdiction_names                3818 non-null   object \n",
      " 86  instant_bookable                  3818 non-null   object \n",
      " 87  cancellation_policy               3818 non-null   object \n",
      " 88  require_guest_profile_picture     3818 non-null   object \n",
      " 89  require_guest_phone_verification  3818 non-null   object \n",
      " 90  calculated_host_listings_count    3818 non-null   int64  \n",
      " 91  reviews_per_month                 3191 non-null   float64\n",
      "dtypes: float64(17), int64(13), object(62)\n",
      "memory usage: 2.7+ MB\n"
     ]
    }
   ],
   "source": [
    "df_listings_sea.info()"
   ]
  },
  {
   "cell_type": "code",
   "execution_count": 5,
   "metadata": {},
   "outputs": [],
   "source": [
    "def clean_data(df, is_bos=True):\n",
    "    \n",
    "    \n",
    "    \n",
    "    #Drop columns that are not quantitative nor categorical for price prediction\n",
    "    drop_columns = ['listing_url', 'scrape_id', 'last_scraped', 'name', 'summary','space',\n",
    "                    'description', 'experiences_offered', 'neighborhood_overview', 'notes','transit',\n",
    "                     'thumbnail_url', 'medium_url', 'picture_url', 'has_availability',\n",
    "                    'xl_picture_url', 'host_id', 'host_url', 'host_name', 'host_about', 'host_response_time',\n",
    "                    'host_response_rate', 'host_acceptance_rate', 'host_thumbnail_url', 'host_picture_url',\n",
    "                    'host_neighbourhood', 'host_verifications', 'host_has_profile_pic', 'host_identity_verified',\n",
    "                    'street', 'neighbourhood_group_cleansed', 'city', 'state', 'zipcode', 'market', 'smart_location',\n",
    "                    'country_code', 'country', 'calendar_updated', 'calendar_last_scraped', 'jurisdiction_names',\n",
    "                    'first_review', 'last_review',\n",
    "                   ]\n",
    "    # The extra columns which only df_listings_bos has\n",
    "    drop_columns_bos_extra = ['access', 'interaction', 'house_rules']\n",
    "    \n",
    "    df = df.drop(columns=drop_columns)\n",
    "    \n",
    "    if is_bos:\n",
    "        df = df.drop(columns=drop_columns_bos_extra)\n",
    "    \n",
    "    # Drop columns that have less than 60% non-null value\n",
    "    df.dropna(axis=1, thresh=len(df)*0.6, inplace=True)\n",
    "\n",
    "    # Convert $ string into float\n",
    "    for mon_col in [\"cleaning_fee\", \"price\", \"extra_people\"]:\n",
    "        df[mon_col] = df[mon_col].str.replace(\"[$, ]\", \"\").astype(\"float\")\n",
    "    \n",
    "    # The listing with NaN in cleaning fee should be 0\n",
    "    df[\"cleaning_fee\"].fillna(0, inplace=True)\n",
    "    \n",
    "    # Drop the rows without bathroom, bedroom, host_location ,bed and property_type since they only have very few missing value\n",
    "    df.dropna(subset=[\"bathrooms\", \"bedrooms\", \"beds\", \"property_type\", \"host_location\"], inplace=True)\n",
    "    \n",
    "    # Fill in the missing values in review with the mean\n",
    "    for review in [\"review_scores_rating\", \"review_scores_accuracy\", \"review_scores_cleanliness\", \"review_scores_checkin\",\n",
    "                  \"review_scores_communication\", \"review_scores_location\", \"review_scores_value\", \"reviews_per_month\" ]:\n",
    "        df[review].fillna(df[review].mean(), inplace=True)\n",
    "    return df\n",
    "\n",
    "df_listings_bos = clean_data(df_listings_bos)\n",
    "df_listings_sea = clean_data(df_listings_sea, False)"
   ]
  },
  {
   "cell_type": "code",
   "execution_count": 6,
   "metadata": {
    "scrolled": true
   },
   "outputs": [
    {
     "name": "stdout",
     "output_type": "stream",
     "text": [
      "<class 'pandas.core.frame.DataFrame'>\n",
      "Int64Index: 3543 entries, 0 to 3584\n",
      "Data columns (total 44 columns):\n",
      " #   Column                            Non-Null Count  Dtype  \n",
      "---  ------                            --------------  -----  \n",
      " 0   id                                3543 non-null   int64  \n",
      " 1   host_since                        3543 non-null   object \n",
      " 2   host_location                     3543 non-null   object \n",
      " 3   host_is_superhost                 3543 non-null   object \n",
      " 4   host_listings_count               3543 non-null   int64  \n",
      " 5   host_total_listings_count         3543 non-null   int64  \n",
      " 6   neighbourhood                     3010 non-null   object \n",
      " 7   neighbourhood_cleansed            3543 non-null   object \n",
      " 8   latitude                          3543 non-null   float64\n",
      " 9   longitude                         3543 non-null   float64\n",
      " 10  is_location_exact                 3543 non-null   object \n",
      " 11  property_type                     3543 non-null   object \n",
      " 12  room_type                         3543 non-null   object \n",
      " 13  accommodates                      3543 non-null   int64  \n",
      " 14  bathrooms                         3543 non-null   float64\n",
      " 15  bedrooms                          3543 non-null   float64\n",
      " 16  beds                              3543 non-null   float64\n",
      " 17  bed_type                          3543 non-null   object \n",
      " 18  amenities                         3543 non-null   object \n",
      " 19  price                             3543 non-null   float64\n",
      " 20  cleaning_fee                      3543 non-null   float64\n",
      " 21  guests_included                   3543 non-null   int64  \n",
      " 22  extra_people                      3543 non-null   float64\n",
      " 23  minimum_nights                    3543 non-null   int64  \n",
      " 24  maximum_nights                    3543 non-null   int64  \n",
      " 25  availability_30                   3543 non-null   int64  \n",
      " 26  availability_60                   3543 non-null   int64  \n",
      " 27  availability_90                   3543 non-null   int64  \n",
      " 28  availability_365                  3543 non-null   int64  \n",
      " 29  number_of_reviews                 3543 non-null   int64  \n",
      " 30  review_scores_rating              3543 non-null   float64\n",
      " 31  review_scores_accuracy            3543 non-null   float64\n",
      " 32  review_scores_cleanliness         3543 non-null   float64\n",
      " 33  review_scores_checkin             3543 non-null   float64\n",
      " 34  review_scores_communication       3543 non-null   float64\n",
      " 35  review_scores_location            3543 non-null   float64\n",
      " 36  review_scores_value               3543 non-null   float64\n",
      " 37  requires_license                  3543 non-null   object \n",
      " 38  instant_bookable                  3543 non-null   object \n",
      " 39  cancellation_policy               3543 non-null   object \n",
      " 40  require_guest_profile_picture     3543 non-null   object \n",
      " 41  require_guest_phone_verification  3543 non-null   object \n",
      " 42  calculated_host_listings_count    3543 non-null   int64  \n",
      " 43  reviews_per_month                 3543 non-null   float64\n",
      "dtypes: float64(16), int64(13), object(15)\n",
      "memory usage: 1.2+ MB\n"
     ]
    }
   ],
   "source": [
    "df_listings_bos.info()"
   ]
  },
  {
   "cell_type": "code",
   "execution_count": 7,
   "metadata": {},
   "outputs": [
    {
     "name": "stdout",
     "output_type": "stream",
     "text": [
      "<class 'pandas.core.frame.DataFrame'>\n",
      "Int64Index: 3787 entries, 0 to 3817\n",
      "Data columns (total 45 columns):\n",
      " #   Column                            Non-Null Count  Dtype  \n",
      "---  ------                            --------------  -----  \n",
      " 0   id                                3787 non-null   int64  \n",
      " 1   host_since                        3787 non-null   object \n",
      " 2   host_location                     3787 non-null   object \n",
      " 3   host_is_superhost                 3787 non-null   object \n",
      " 4   host_listings_count               3787 non-null   float64\n",
      " 5   host_total_listings_count         3787 non-null   float64\n",
      " 6   neighbourhood                     3372 non-null   object \n",
      " 7   neighbourhood_cleansed            3787 non-null   object \n",
      " 8   latitude                          3787 non-null   float64\n",
      " 9   longitude                         3787 non-null   float64\n",
      " 10  is_location_exact                 3787 non-null   object \n",
      " 11  property_type                     3787 non-null   object \n",
      " 12  room_type                         3787 non-null   object \n",
      " 13  accommodates                      3787 non-null   int64  \n",
      " 14  bathrooms                         3787 non-null   float64\n",
      " 15  bedrooms                          3787 non-null   float64\n",
      " 16  beds                              3787 non-null   float64\n",
      " 17  bed_type                          3787 non-null   object \n",
      " 18  amenities                         3787 non-null   object \n",
      " 19  price                             3787 non-null   float64\n",
      " 20  cleaning_fee                      3787 non-null   float64\n",
      " 21  guests_included                   3787 non-null   int64  \n",
      " 22  extra_people                      3787 non-null   float64\n",
      " 23  minimum_nights                    3787 non-null   int64  \n",
      " 24  maximum_nights                    3787 non-null   int64  \n",
      " 25  availability_30                   3787 non-null   int64  \n",
      " 26  availability_60                   3787 non-null   int64  \n",
      " 27  availability_90                   3787 non-null   int64  \n",
      " 28  availability_365                  3787 non-null   int64  \n",
      " 29  number_of_reviews                 3787 non-null   int64  \n",
      " 30  review_scores_rating              3787 non-null   float64\n",
      " 31  review_scores_accuracy            3787 non-null   float64\n",
      " 32  review_scores_cleanliness         3787 non-null   float64\n",
      " 33  review_scores_checkin             3787 non-null   float64\n",
      " 34  review_scores_communication       3787 non-null   float64\n",
      " 35  review_scores_location            3787 non-null   float64\n",
      " 36  review_scores_value               3787 non-null   float64\n",
      " 37  requires_license                  3787 non-null   object \n",
      " 38  jurisdiction_names                3787 non-null   object \n",
      " 39  instant_bookable                  3787 non-null   object \n",
      " 40  cancellation_policy               3787 non-null   object \n",
      " 41  require_guest_profile_picture     3787 non-null   object \n",
      " 42  require_guest_phone_verification  3787 non-null   object \n",
      " 43  calculated_host_listings_count    3787 non-null   int64  \n",
      " 44  reviews_per_month                 3787 non-null   float64\n",
      "dtypes: float64(18), int64(11), object(16)\n",
      "memory usage: 1.3+ MB\n"
     ]
    }
   ],
   "source": [
    "df_listings_sea.info()"
   ]
  },
  {
   "cell_type": "code",
   "execution_count": 8,
   "metadata": {},
   "outputs": [
    {
     "data": {
      "image/png": "[encoded data removed]",
      "text/plain": [
       "<Figure size 720x720 with 2 Axes>"
      ]
     },
     "metadata": {
      "needs_background": "light"
     },
     "output_type": "display_data"
    }
   ],
   "source": [
    "plt.figure(figsize=(10,10))\n",
    "ax = sns.heatmap(df_listings_bos.groupby(['property_type', 'room_type']).mean()['price'].unstack(), annot=True, fmt=\".0f\")"
   ]
  },
  {
   "cell_type": "code",
   "execution_count": 9,
   "metadata": {},
   "outputs": [
    {
     "data": {
      "text/plain": [
       "count    3543.000000\n",
       "mean      174.300875\n",
       "std       148.900712\n",
       "min        10.000000\n",
       "25%        85.000000\n",
       "50%       150.000000\n",
       "75%       220.000000\n",
       "max      4000.000000\n",
       "Name: price, dtype: float64"
      ]
     },
     "execution_count": 9,
     "metadata": {},
     "output_type": "execute_result"
    },
    {
     "data": {
      "image/png": "[encoded data removed]",
      "text/plain": [
       "<Figure size 720x648 with 1 Axes>"
      ]
     },
     "metadata": {
      "needs_background": "light"
     },
     "output_type": "display_data"
    }
   ],
   "source": [
    "plt.figure(figsize=(10,9))\n",
    "plt.title('Price distribution in Boston')\n",
    "ax = sns.histplot(df_listings_bos['price'])\n",
    "df_listings_bos['price'].describe()"
   ]
  },
  {
   "cell_type": "code",
   "execution_count": 10,
   "metadata": {},
   "outputs": [
    {
     "data": {
      "text/plain": [
       "count    3787.000000\n",
       "mean      128.063375\n",
       "std        90.463742\n",
       "min        20.000000\n",
       "25%        75.000000\n",
       "50%       100.000000\n",
       "75%       150.000000\n",
       "max      1000.000000\n",
       "Name: price, dtype: float64"
      ]
     },
     "execution_count": 10,
     "metadata": {},
     "output_type": "execute_result"
    },
    {
     "data": {
      "image/png": "[encoded data removed]",
      "text/plain": [
       "<Figure size 720x648 with 1 Axes>"
      ]
     },
     "metadata": {
      "needs_background": "light"
     },
     "output_type": "display_data"
    }
   ],
   "source": [
    "plt.figure(figsize=(10,9))\n",
    "plt.title('Price distribution in Seattle')\n",
    "ax = sns.histplot(df_listings_sea['price'])\n",
    "df_listings_sea['price'].describe()"
   ]
  },
  {
   "cell_type": "code",
   "execution_count": null,
   "metadata": {},
   "outputs": [],
   "source": []
  }
 ],
 "metadata": {
  "kernelspec": {
   "display_name": "Python 3",
   "language": "python",
   "name": "python3"
  },
  "language_info": {
   "codemirror_mode": {
    "name": "ipython",
    "version": 3
   },
   "file_extension": ".py",
   "mimetype": "text/x-python",
   "name": "python",
   "nbconvert_exporter": "python",
   "pygments_lexer": "ipython3",
   "version": "3.8.5"
  }
 },
 "nbformat": 4,
 "nbformat_minor": 4
}
