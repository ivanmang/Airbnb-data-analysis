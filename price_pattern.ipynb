{
 "cells": [
  {
   "cell_type": "markdown",
   "metadata": {},
   "source": [
    "# Introduction"
   ]
  },
  {
   "cell_type": "markdown",
   "metadata": {},
   "source": [
    "For this project I am going to use the [Seattle](https://www.kaggle.com/airbnb/seattle) and [Boston](https://www.kaggle.com/airbnb/boston) Airbnb Open Data to solve some business problem using the CRISP-DM Process of:\n",
    "1. Business Understanding\n",
    "2. Data Understanding\n",
    "3. Prepare Data\n",
    "4. Data Modeling\n",
    "5. Evaluate the Results\n",
    "6. Deploy"
   ]
  },
  {
   "cell_type": "markdown",
   "metadata": {},
   "source": [
    "## Business Understanding\n",
    "Imagine you are travelling to Seattle or Boston, and trying to book an Airbnb. You may find that the price of those listings varies drastically across (>20%) the week and year. It seems like there are some seasonal patterns and factors that affect the price of those listings. Therefore, I would like to know\n",
    "1. **What are the busiest times to visit Boston and Seattle? By how much do prices spike?**\n",
    "2. How well can we predict the price of the listing? Which features affect the price the most?\n",
    "3. Which kind of host tends to have a better review?\n",
    "\n",
    "In this notebook, I will start with the first question. For the other questions, they will be available on other notebooks."
   ]
  },
  {
   "cell_type": "markdown",
   "metadata": {},
   "source": [
    "## Data Understanding"
   ]
  },
  {
   "cell_type": "code",
   "execution_count": 1,
   "metadata": {},
   "outputs": [],
   "source": [
    "import numpy as np\n",
    "import pandas as pd\n",
    "import matplotlib.pyplot as plt\n",
    "import seaborn as sns"
   ]
  },
  {
   "cell_type": "code",
   "execution_count": 2,
   "metadata": {},
   "outputs": [],
   "source": [
    "%matplotlib inline\n",
    "\n",
    "df_calendar_bos = pd.read_csv('./boston/calendar.csv')\n",
    "\n",
    "df_calendar_sea = pd.read_csv('./seattle/calendar.csv')"
   ]
  },
  {
   "cell_type": "markdown",
   "metadata": {},
   "source": [
    "In this section, I will analysis the prices difference between the Boston Airbnb and Seattle Airbnb in certain time frames."
   ]
  },
  {
   "cell_type": "code",
   "execution_count": 3,
   "metadata": {},
   "outputs": [
    {
     "data": {
      "text/html": [
       "<div>\n",
       "<style scoped>\n",
       "    .dataframe tbody tr th:only-of-type {\n",
       "        vertical-align: middle;\n",
       "    }\n",
       "\n",
       "    .dataframe tbody tr th {\n",
       "        vertical-align: top;\n",
       "    }\n",
       "\n",
       "    .dataframe thead th {\n",
       "        text-align: right;\n",
       "    }\n",
       "</style>\n",
       "<table border=\"1\" class=\"dataframe\">\n",
       "  <thead>\n",
       "    <tr style=\"text-align: right;\">\n",
       "      <th></th>\n",
       "      <th>listing_id</th>\n",
       "      <th>date</th>\n",
       "      <th>available</th>\n",
       "      <th>price</th>\n",
       "    </tr>\n",
       "  </thead>\n",
       "  <tbody>\n",
       "    <tr>\n",
       "      <th>0</th>\n",
       "      <td>12147973</td>\n",
       "      <td>2017-09-05</td>\n",
       "      <td>f</td>\n",
       "      <td>NaN</td>\n",
       "    </tr>\n",
       "    <tr>\n",
       "      <th>1</th>\n",
       "      <td>12147973</td>\n",
       "      <td>2017-09-04</td>\n",
       "      <td>f</td>\n",
       "      <td>NaN</td>\n",
       "    </tr>\n",
       "    <tr>\n",
       "      <th>2</th>\n",
       "      <td>12147973</td>\n",
       "      <td>2017-09-03</td>\n",
       "      <td>f</td>\n",
       "      <td>NaN</td>\n",
       "    </tr>\n",
       "    <tr>\n",
       "      <th>3</th>\n",
       "      <td>12147973</td>\n",
       "      <td>2017-09-02</td>\n",
       "      <td>f</td>\n",
       "      <td>NaN</td>\n",
       "    </tr>\n",
       "    <tr>\n",
       "      <th>4</th>\n",
       "      <td>12147973</td>\n",
       "      <td>2017-09-01</td>\n",
       "      <td>f</td>\n",
       "      <td>NaN</td>\n",
       "    </tr>\n",
       "  </tbody>\n",
       "</table>\n",
       "</div>"
      ],
      "text/plain": [
       "   listing_id        date available price\n",
       "0    12147973  2017-09-05         f   NaN\n",
       "1    12147973  2017-09-04         f   NaN\n",
       "2    12147973  2017-09-03         f   NaN\n",
       "3    12147973  2017-09-02         f   NaN\n",
       "4    12147973  2017-09-01         f   NaN"
      ]
     },
     "execution_count": 3,
     "metadata": {},
     "output_type": "execute_result"
    }
   ],
   "source": [
    "df_calendar_bos.head()"
   ]
  },
  {
   "cell_type": "code",
   "execution_count": 4,
   "metadata": {},
   "outputs": [
    {
     "data": {
      "text/html": [
       "<div>\n",
       "<style scoped>\n",
       "    .dataframe tbody tr th:only-of-type {\n",
       "        vertical-align: middle;\n",
       "    }\n",
       "\n",
       "    .dataframe tbody tr th {\n",
       "        vertical-align: top;\n",
       "    }\n",
       "\n",
       "    .dataframe thead th {\n",
       "        text-align: right;\n",
       "    }\n",
       "</style>\n",
       "<table border=\"1\" class=\"dataframe\">\n",
       "  <thead>\n",
       "    <tr style=\"text-align: right;\">\n",
       "      <th></th>\n",
       "      <th>listing_id</th>\n",
       "      <th>date</th>\n",
       "      <th>available</th>\n",
       "      <th>price</th>\n",
       "    </tr>\n",
       "  </thead>\n",
       "  <tbody>\n",
       "    <tr>\n",
       "      <th>0</th>\n",
       "      <td>241032</td>\n",
       "      <td>2016-01-04</td>\n",
       "      <td>t</td>\n",
       "      <td>$85.00</td>\n",
       "    </tr>\n",
       "    <tr>\n",
       "      <th>1</th>\n",
       "      <td>241032</td>\n",
       "      <td>2016-01-05</td>\n",
       "      <td>t</td>\n",
       "      <td>$85.00</td>\n",
       "    </tr>\n",
       "    <tr>\n",
       "      <th>2</th>\n",
       "      <td>241032</td>\n",
       "      <td>2016-01-06</td>\n",
       "      <td>f</td>\n",
       "      <td>NaN</td>\n",
       "    </tr>\n",
       "    <tr>\n",
       "      <th>3</th>\n",
       "      <td>241032</td>\n",
       "      <td>2016-01-07</td>\n",
       "      <td>f</td>\n",
       "      <td>NaN</td>\n",
       "    </tr>\n",
       "    <tr>\n",
       "      <th>4</th>\n",
       "      <td>241032</td>\n",
       "      <td>2016-01-08</td>\n",
       "      <td>f</td>\n",
       "      <td>NaN</td>\n",
       "    </tr>\n",
       "  </tbody>\n",
       "</table>\n",
       "</div>"
      ],
      "text/plain": [
       "   listing_id        date available   price\n",
       "0      241032  2016-01-04         t  $85.00\n",
       "1      241032  2016-01-05         t  $85.00\n",
       "2      241032  2016-01-06         f     NaN\n",
       "3      241032  2016-01-07         f     NaN\n",
       "4      241032  2016-01-08         f     NaN"
      ]
     },
     "execution_count": 4,
     "metadata": {},
     "output_type": "execute_result"
    }
   ],
   "source": [
    "df_calendar_sea.head()"
   ]
  },
  {
   "cell_type": "markdown",
   "metadata": {},
   "source": [
    "## Prepare Data\n",
    "We clean and reformat the data by removing the $ sign from price, extract year,month and days from date. Also, change the availablity to binary."
   ]
  },
  {
   "cell_type": "code",
   "execution_count": 5,
   "metadata": {},
   "outputs": [],
   "source": [
    "def reformat_data(df):\n",
    "    '''\n",
    "    INPUT:\n",
    "    df - pandas dataframe you want to reformat\n",
    "    \n",
    "    OUTPUT:\n",
    "    df - a new dataframe that has the following characteristics:\n",
    "            1. Convert price string into float and remove $ sign\n",
    "            2. Change date to datetime\n",
    "            3. Create new year, month, day, dayofweek columns from datetime\n",
    "            4. Convert \"t\" into 1, \"f\" 0 in the column \"available\"\n",
    "    '''\n",
    "    # Convert price string into float\n",
    "    df.price = df.price.str.replace(\"[$, ]\", \"\").astype(\"float\")\n",
    "    # Change date to datetime\n",
    "    df[\"date\"] = pd.to_datetime(df[\"date\"])\n",
    "    # Set the index to date and extract year, month, day, dayofweek\n",
    "    df = df.set_index(\"date\")\n",
    "    df[\"year\"] = df.index.year\n",
    "    df[\"month\"] = df.index.month.map(\"{:02}\".format)\n",
    "    df[\"day\"] = df.index.day\n",
    "    df[\"dow\"] = df.index.dayofweek\n",
    "    # Convert \"t\" available into 1, \"f\" into 0\n",
    "    df[\"available\"]=df[\"available\"].apply(lambda x:1 if x==\"t\" else 0)\n",
    "    return df\n"
   ]
  },
  {
   "cell_type": "code",
   "execution_count": null,
   "metadata": {
    "scrolled": true
   },
   "outputs": [],
   "source": [
    "df_cal_bos = reformat_data(df_calendar_bos).reset_index()\n",
    "df_cal_sea = reformat_data(df_calendar_sea).reset_index()"
   ]
  },
  {
   "cell_type": "code",
   "execution_count": null,
   "metadata": {
    "scrolled": false
   },
   "outputs": [],
   "source": [
    "df_cal_bos"
   ]
  },
  {
   "cell_type": "markdown",
   "metadata": {},
   "source": [
    "New columns are created to specify the year, month, day and day of weeks"
   ]
  },
  {
   "cell_type": "markdown",
   "metadata": {},
   "source": [
    "## What are the busiest times to visit Boston and Seattle? How does it affect the price?"
   ]
  },
  {
   "cell_type": "markdown",
   "metadata": {},
   "source": [
    "### First lets look at which day of the week is the busiest with the least available listing"
   ]
  },
  {
   "cell_type": "code",
   "execution_count": null,
   "metadata": {},
   "outputs": [],
   "source": [
    "def get_availability(df , timeframe):\n",
    "    '''\n",
    "    INPUT:\n",
    "    df - pandas dataframe you want to get availability from\n",
    "    timeframe - the timeframe for availability to be calculated\n",
    "    \n",
    "    OUTPUT:\n",
    "    availability - a ratio of the number of available listings on a timeframe to the number of total listings\n",
    "    '''\n",
    "    #Showing the number of listings\n",
    "    total_listing = df.groupby([timeframe]).count()[\"listing_id\"]\n",
    "    #Showing the number of available listings on a specifc timeframe\n",
    "    available_listing = df.groupby([timeframe]).sum()['available']\n",
    "    #Calcualte the availability\n",
    "    return available_listing/total_listing\n",
    "\n",
    "#Showing the number of available listings on each day of week\n",
    "availability_bos_dow = get_availability(df_cal_bos, 'dow')\n",
    "availability_sea_dow = get_availability(df_cal_sea, 'dow')\n"
   ]
  },
  {
   "cell_type": "markdown",
   "metadata": {},
   "source": [
    "Getting the average price in a specific timeframe"
   ]
  },
  {
   "cell_type": "code",
   "execution_count": null,
   "metadata": {},
   "outputs": [],
   "source": [
    "def get_price(df , timeframe):\n",
    "    '''\n",
    "    INPUT:\n",
    "    df - pandas dataframe you want to get average price from\n",
    "    timeframe - the timeframe for average price to be calculated\n",
    "    \n",
    "    OUTPUT:\n",
    "    mean_price - the average price in the timeframe specified\n",
    "    '''\n",
    "    # Drop rows where price in NaN\n",
    "    df.dropna(subset=['price'])\n",
    "    #Get the average price\n",
    "    mean_price = df.groupby([timeframe]).mean()['price']\n",
    "    return mean_price\n",
    "\n",
    "#Showing the average price on each day of week\n",
    "price_bos_dow = get_price(df_cal_bos, 'dow')\n",
    "price_sea_dow = get_price(df_cal_sea, 'dow')"
   ]
  },
  {
   "cell_type": "markdown",
   "metadata": {},
   "source": [
    "We plot a graph on the total availablity and average price on each day of the week in Boston."
   ]
  },
  {
   "cell_type": "code",
   "execution_count": null,
   "metadata": {
    "scrolled": false
   },
   "outputs": [],
   "source": [
    "plt.figure(figsize=(15,8))\n",
    "\n",
    "ax = sns.lineplot(data = availability_bos_dow, color=\"b\")\n",
    "ax2 = ax.twinx()\n",
    "sns.lineplot(data=price_bos_dow, color=\"r\", ax=ax2)\n",
    "ax.set_ylabel('Total Availablity',fontsize=16,  color=\"b\")\n",
    "ax2.set_ylabel('Price', fontsize=16, color=\"r\")\n",
    "ax.set(xlabel=\"Day of Week\", title=\"Total availablity and average price throughout the week in Boston\")\n",
    "ax.set_xticks([0,1,2,3,4,5,6])\n",
    "ax.set_xticklabels([\"Monday\",\"Tuesday\",\"Wednesday\",\"Thursday\",\"Friday\",\"Saturday\",\"Sunday\"])"
   ]
  },
  {
   "cell_type": "markdown",
   "metadata": {},
   "source": [
    "The availability started to fall during Wednesday and stopped falling on Friday in Boston. On the other hand, the price started to rise on Wednesday and peaked on Saturday. The average increase in price is around 3%."
   ]
  },
  {
   "cell_type": "markdown",
   "metadata": {},
   "source": [
    "We do the same for Seattle"
   ]
  },
  {
   "cell_type": "code",
   "execution_count": null,
   "metadata": {},
   "outputs": [],
   "source": [
    "plt.figure(figsize=(15,8))\n",
    "\n",
    "ax = sns.lineplot(data = availability_sea_dow, color=\"b\")\n",
    "ax2 = ax.twinx()\n",
    "sns.lineplot(data=price_sea_dow, color=\"r\", ax=ax2)\n",
    "ax.set_ylabel('Total Availablity',fontsize=16,  color=\"b\")\n",
    "ax2.set_ylabel('Price', fontsize=16, color=\"r\")\n",
    "ax.set(xlabel=\"Day of Week\", title=\"Total availablity and average price throughout the week in Seattle\")\n",
    "ax.set_xticks([0,1,2,3,4,5,6])\n",
    "ax.set_xticklabels([\"Monday\",\"Tuesday\",\"Wednesday\",\"Thursday\",\"Friday\",\"Saturday\",\"Sunday\"])"
   ]
  },
  {
   "cell_type": "markdown",
   "metadata": {},
   "source": [
    "There is a similar pattern in Figure 2, where the price peaked on Saturday with an average increase of ~5.5% in price."
   ]
  },
  {
   "cell_type": "markdown",
   "metadata": {},
   "source": [
    "Then we will try to look into the availabity through out the year, therefore we create a new column \"period\" which combine the year and month."
   ]
  },
  {
   "cell_type": "code",
   "execution_count": null,
   "metadata": {},
   "outputs": [],
   "source": [
    "df_cal_bos['period'] = df_cal_bos['year'].map(str)+ '-' +df_cal_bos['month'].map(str)\n",
    "df_cal_sea['period'] = df_cal_sea['year'].map(str)+ '-' +df_cal_sea['month'].map(str)"
   ]
  },
  {
   "cell_type": "code",
   "execution_count": null,
   "metadata": {},
   "outputs": [],
   "source": [
    "df_cal_bos"
   ]
  },
  {
   "cell_type": "code",
   "execution_count": null,
   "metadata": {},
   "outputs": [],
   "source": [
    "#Showing the number of available listings on each period\n",
    "availability_bos_period = get_availability(df_cal_bos, 'period')\n",
    "availability_sea_period = get_availability(df_cal_sea, 'period')"
   ]
  },
  {
   "cell_type": "code",
   "execution_count": null,
   "metadata": {},
   "outputs": [],
   "source": [
    "#Combining the availablity of seattle and boston\n",
    "period_availablity = pd.concat([availability_sea_period.rename('seattle availablity'), availability_bos_period.rename('boston availablity')], axis=1)"
   ]
  },
  {
   "cell_type": "markdown",
   "metadata": {},
   "source": [
    "From the data, we know that both city have a different timeframe"
   ]
  },
  {
   "cell_type": "code",
   "execution_count": null,
   "metadata": {},
   "outputs": [],
   "source": [
    "period_availablity"
   ]
  },
  {
   "cell_type": "markdown",
   "metadata": {},
   "source": [
    "Here we can see the trend of both city's availablity."
   ]
  },
  {
   "cell_type": "markdown",
   "metadata": {},
   "source": [
    "The graph shows that the availability of listings in Seattle is higher than in Boston for ~15%. Seattle has the most available rooms between Winter and Spring, while Boston is in Winter. Both cities also have a decline in availability during the Summer."
   ]
  },
  {
   "cell_type": "code",
   "execution_count": null,
   "metadata": {
    "scrolled": true
   },
   "outputs": [],
   "source": [
    "plt.figure(figsize=(18,10))\n",
    "\n",
    "ax = sns.lineplot(data = period_availablity)\n",
    "ax.set(xlabel=\"Year-Month\",ylabel=\"Total Availablity\", title=\"Total availablity throughout different months in Boston and Seattle\")"
   ]
  },
  {
   "cell_type": "code",
   "execution_count": null,
   "metadata": {},
   "outputs": [],
   "source": [
    "#Showing the average price on each period\n",
    "price_bos_period = get_price(df_cal_bos, 'period')\n",
    "price_sea_period = get_price(df_cal_sea, 'period')"
   ]
  },
  {
   "cell_type": "code",
   "execution_count": null,
   "metadata": {},
   "outputs": [],
   "source": [
    "#Combining the average price of seattle and boston\n",
    "period_price = pd.concat([price_sea_period.rename('seattle price'), price_bos_period.rename('boston price')], axis=1)"
   ]
  },
  {
   "cell_type": "code",
   "execution_count": null,
   "metadata": {},
   "outputs": [],
   "source": [
    "period_price"
   ]
  },
  {
   "cell_type": "markdown",
   "metadata": {},
   "source": [
    "We can also see the trend of the price in both city"
   ]
  },
  {
   "cell_type": "code",
   "execution_count": null,
   "metadata": {
    "scrolled": false
   },
   "outputs": [],
   "source": [
    "plt.figure(figsize=(18,10))\n",
    "\n",
    "ax = sns.lineplot(data = period_price)\n",
    "ax.set(xlabel=\"Year-Month\",ylabel=\"Average Price\", title=\"Average price throughout different months in Boston and Seattle\")"
   ]
  },
  {
   "cell_type": "markdown",
   "metadata": {},
   "source": [
    "Boston’s listing average price is around 25% higher than Seattle. Both cities’ listing prices started to peak during the summer (June — Aug)."
   ]
  },
  {
   "cell_type": "markdown",
   "metadata": {},
   "source": [
    "### Evaluate the Results\n",
    "The evaluation of the result can be seen in the Medium post [Here](https://medium.com/@ivanhi22/which-factors-affect-the-price-of-airbnb-in-seattle-and-boston-the-most-814e99f417da)"
   ]
  }
 ],
 "metadata": {
  "kernelspec": {
   "display_name": "Python 3",
   "language": "python",
   "name": "python3"
  },
  "language_info": {
   "codemirror_mode": {
    "name": "ipython",
    "version": 3
   },
   "file_extension": ".py",
   "mimetype": "text/x-python",
   "name": "python",
   "nbconvert_exporter": "python",
   "pygments_lexer": "ipython3",
   "version": "3.8.5"
  }
 },
 "nbformat": 4,
 "nbformat_minor": 4
}
