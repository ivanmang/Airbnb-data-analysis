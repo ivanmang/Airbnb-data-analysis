{
 "cells": [
  {
   "cell_type": "markdown",
   "metadata": {},
   "source": [
    "# Load Data and Libraries"
   ]
  },
  {
   "cell_type": "code",
   "execution_count": 1,
   "metadata": {},
   "outputs": [],
   "source": [
    "import numpy as np\n",
    "import pandas as pd\n",
    "import matplotlib.pyplot as plt\n",
    "import seaborn as sns"
   ]
  },
  {
   "cell_type": "code",
   "execution_count": 2,
   "metadata": {},
   "outputs": [],
   "source": [
    "%matplotlib inline\n",
    "\n",
    "df_listings_bos = pd.read_csv('./boston/listings.csv')\n",
    "df_calendar_bos = pd.read_csv('./boston/calendar.csv')\n",
    "df_review_bos = pd.read_csv('./boston/reviews.csv')\n",
    "\n",
    "# df_listings_sea = pd.read_csv('./seattle/listings.csv')\n",
    "# df_calendar_sea = pd.read_csv('./seattle/calendar.csv')\n",
    "# df_review_sea = pd.read_csv('./seattle/reviews.csv')"
   ]
  },
  {
   "cell_type": "code",
   "execution_count": 35,
   "metadata": {
    "scrolled": true
   },
   "outputs": [
    {
     "name": "stdout",
     "output_type": "stream",
     "text": [
      "<class 'pandas.core.frame.DataFrame'>\n",
      "RangeIndex: 1308890 entries, 0 to 1308889\n",
      "Data columns (total 4 columns):\n",
      " #   Column      Non-Null Count    Dtype \n",
      "---  ------      --------------    ----- \n",
      " 0   listing_id  1308890 non-null  int64 \n",
      " 1   date        1308890 non-null  object\n",
      " 2   available   1308890 non-null  object\n",
      " 3   price       643037 non-null   object\n",
      "dtypes: int64(1), object(3)\n",
      "memory usage: 39.9+ MB\n"
     ]
    }
   ],
   "source": [
    "df_calendar_bos.info()"
   ]
  },
  {
   "cell_type": "code",
   "execution_count": 33,
   "metadata": {},
   "outputs": [
    {
     "data": {
      "text/plain": [
       "0       $250.00\n",
       "1        $65.00\n",
       "2        $65.00\n",
       "3        $75.00\n",
       "4        $79.00\n",
       "         ...   \n",
       "3580     $69.00\n",
       "3581    $150.00\n",
       "3582    $198.00\n",
       "3583     $65.00\n",
       "3584     $65.00\n",
       "Name: price, Length: 3585, dtype: object"
      ]
     },
     "execution_count": 33,
     "metadata": {},
     "output_type": "execute_result"
    }
   ],
   "source": [
    "df_listings_bos.price"
   ]
  },
  {
   "cell_type": "code",
   "execution_count": null,
   "metadata": {},
   "outputs": [],
   "source": [
    "def reformat_data(df):\n",
    "    # Convert price string into float\n",
    "    df.price = df.price.str.replace(\"[$, ]\", \"\").astype(\"float\")\n",
    "    # \n",
    "    \n",
    "    return df"
   ]
  },
  {
   "cell_type": "code",
   "execution_count": 3,
   "metadata": {},
   "outputs": [],
   "source": [
    "df_calendar_bos[\"date\"] = pd.to_datetime(df_calendar_bos[\"date\"])"
   ]
  },
  {
   "cell_type": "code",
   "execution_count": 4,
   "metadata": {},
   "outputs": [],
   "source": [
    "df_calendar_bos = df_calendar_bos.set_index(\"date\")\n",
    "df_calendar_bos[\"year\"] = df_calendar_bos.index.year\n",
    "df_calendar_bos[\"month\"] = df_calendar_bos.index.month\n",
    "df_calendar_bos[\"day\"] = df_calendar_bos.index.day"
   ]
  },
  {
   "cell_type": "code",
   "execution_count": 3,
   "metadata": {},
   "outputs": [],
   "source": [
    "df_calendar_bos.price = df_calendar_bos.price.str.replace(\"[$, ]\", \"\").astype(\"float\")"
   ]
  },
  {
   "cell_type": "code",
   "execution_count": 4,
   "metadata": {},
   "outputs": [
    {
     "data": {
      "text/plain": [
       "0         NaN\n",
       "1         NaN\n",
       "2         NaN\n",
       "3         NaN\n",
       "4         NaN\n",
       "           ..\n",
       "1308885   NaN\n",
       "1308886   NaN\n",
       "1308887   NaN\n",
       "1308888   NaN\n",
       "1308889   NaN\n",
       "Name: price, Length: 1308890, dtype: float64"
      ]
     },
     "execution_count": 4,
     "metadata": {},
     "output_type": "execute_result"
    }
   ],
   "source": [
    "df_calendar_bos.price"
   ]
  },
  {
   "cell_type": "code",
   "execution_count": 6,
   "metadata": {},
   "outputs": [],
   "source": [
    "#df_calendar_bos.available = df_calendar_bos.applymap(lambda x: 1 if x == 't' else 0)"
   ]
  },
  {
   "cell_type": "code",
   "execution_count": 6,
   "metadata": {},
   "outputs": [
    {
     "data": {
      "text/html": [
       "<div>\n",
       "<style scoped>\n",
       "    .dataframe tbody tr th:only-of-type {\n",
       "        vertical-align: middle;\n",
       "    }\n",
       "\n",
       "    .dataframe tbody tr th {\n",
       "        vertical-align: top;\n",
       "    }\n",
       "\n",
       "    .dataframe thead th {\n",
       "        text-align: right;\n",
       "    }\n",
       "</style>\n",
       "<table border=\"1\" class=\"dataframe\">\n",
       "  <thead>\n",
       "    <tr style=\"text-align: right;\">\n",
       "      <th></th>\n",
       "      <th>listing_id</th>\n",
       "      <th>available</th>\n",
       "      <th>price</th>\n",
       "      <th>year</th>\n",
       "      <th>month</th>\n",
       "      <th>day</th>\n",
       "    </tr>\n",
       "    <tr>\n",
       "      <th>date</th>\n",
       "      <th></th>\n",
       "      <th></th>\n",
       "      <th></th>\n",
       "      <th></th>\n",
       "      <th></th>\n",
       "      <th></th>\n",
       "    </tr>\n",
       "  </thead>\n",
       "  <tbody>\n",
       "    <tr>\n",
       "      <th>2017-08-22</th>\n",
       "      <td>3075044</td>\n",
       "      <td>t</td>\n",
       "      <td>65.0</td>\n",
       "      <td>2017</td>\n",
       "      <td>8</td>\n",
       "      <td>22</td>\n",
       "    </tr>\n",
       "    <tr>\n",
       "      <th>2017-08-21</th>\n",
       "      <td>3075044</td>\n",
       "      <td>t</td>\n",
       "      <td>65.0</td>\n",
       "      <td>2017</td>\n",
       "      <td>8</td>\n",
       "      <td>21</td>\n",
       "    </tr>\n",
       "    <tr>\n",
       "      <th>2017-08-20</th>\n",
       "      <td>3075044</td>\n",
       "      <td>t</td>\n",
       "      <td>65.0</td>\n",
       "      <td>2017</td>\n",
       "      <td>8</td>\n",
       "      <td>20</td>\n",
       "    </tr>\n",
       "    <tr>\n",
       "      <th>2017-08-19</th>\n",
       "      <td>3075044</td>\n",
       "      <td>t</td>\n",
       "      <td>75.0</td>\n",
       "      <td>2017</td>\n",
       "      <td>8</td>\n",
       "      <td>19</td>\n",
       "    </tr>\n",
       "    <tr>\n",
       "      <th>2017-08-18</th>\n",
       "      <td>3075044</td>\n",
       "      <td>t</td>\n",
       "      <td>75.0</td>\n",
       "      <td>2017</td>\n",
       "      <td>8</td>\n",
       "      <td>18</td>\n",
       "    </tr>\n",
       "    <tr>\n",
       "      <th>...</th>\n",
       "      <td>...</td>\n",
       "      <td>...</td>\n",
       "      <td>...</td>\n",
       "      <td>...</td>\n",
       "      <td>...</td>\n",
       "      <td>...</td>\n",
       "    </tr>\n",
       "    <tr>\n",
       "      <th>2016-09-20</th>\n",
       "      <td>14504422</td>\n",
       "      <td>t</td>\n",
       "      <td>62.0</td>\n",
       "      <td>2016</td>\n",
       "      <td>9</td>\n",
       "      <td>20</td>\n",
       "    </tr>\n",
       "    <tr>\n",
       "      <th>2016-09-19</th>\n",
       "      <td>14504422</td>\n",
       "      <td>t</td>\n",
       "      <td>62.0</td>\n",
       "      <td>2016</td>\n",
       "      <td>9</td>\n",
       "      <td>19</td>\n",
       "    </tr>\n",
       "    <tr>\n",
       "      <th>2016-09-18</th>\n",
       "      <td>14504422</td>\n",
       "      <td>t</td>\n",
       "      <td>62.0</td>\n",
       "      <td>2016</td>\n",
       "      <td>9</td>\n",
       "      <td>18</td>\n",
       "    </tr>\n",
       "    <tr>\n",
       "      <th>2016-09-17</th>\n",
       "      <td>14504422</td>\n",
       "      <td>t</td>\n",
       "      <td>62.0</td>\n",
       "      <td>2016</td>\n",
       "      <td>9</td>\n",
       "      <td>17</td>\n",
       "    </tr>\n",
       "    <tr>\n",
       "      <th>2016-09-16</th>\n",
       "      <td>14504422</td>\n",
       "      <td>t</td>\n",
       "      <td>62.0</td>\n",
       "      <td>2016</td>\n",
       "      <td>9</td>\n",
       "      <td>16</td>\n",
       "    </tr>\n",
       "  </tbody>\n",
       "</table>\n",
       "<p>643037 rows × 6 columns</p>\n",
       "</div>"
      ],
      "text/plain": [
       "            listing_id available  price  year  month  day\n",
       "date                                                     \n",
       "2017-08-22     3075044         t   65.0  2017      8   22\n",
       "2017-08-21     3075044         t   65.0  2017      8   21\n",
       "2017-08-20     3075044         t   65.0  2017      8   20\n",
       "2017-08-19     3075044         t   75.0  2017      8   19\n",
       "2017-08-18     3075044         t   75.0  2017      8   18\n",
       "...                ...       ...    ...   ...    ...  ...\n",
       "2016-09-20    14504422         t   62.0  2016      9   20\n",
       "2016-09-19    14504422         t   62.0  2016      9   19\n",
       "2016-09-18    14504422         t   62.0  2016      9   18\n",
       "2016-09-17    14504422         t   62.0  2016      9   17\n",
       "2016-09-16    14504422         t   62.0  2016      9   16\n",
       "\n",
       "[643037 rows x 6 columns]"
      ]
     },
     "execution_count": 6,
     "metadata": {},
     "output_type": "execute_result"
    }
   ],
   "source": [
    "#df_calendar_bos.fillna(0, inplace=True)\n",
    "df_calendar_bos.dropna()"
   ]
  },
  {
   "cell_type": "code",
   "execution_count": 12,
   "metadata": {},
   "outputs": [],
   "source": [
    "# df_calendar_bos.available = df_calendar_bos.applymap(lambda x: 1 if x == 't' else 0)"
   ]
  },
  {
   "cell_type": "code",
   "execution_count": 12,
   "metadata": {
    "scrolled": true
   },
   "outputs": [],
   "source": [
    "average = df_calendar_bos.groupby(['year','month'])['price'].mean()"
   ]
  },
  {
   "cell_type": "code",
   "execution_count": 13,
   "metadata": {},
   "outputs": [],
   "source": [
    "df_calendar_bos['period'] = df_calendar_bos['year'].map(str)+ '-' +df_calendar_bos['month'].map(str)"
   ]
  },
  {
   "cell_type": "code",
   "execution_count": 14,
   "metadata": {},
   "outputs": [],
   "source": [
    "df_calendar_bos['period'] = pd.to_datetime(df_calendar_bos['period'], format='%Y-%m').dt.strftime('%Y-%m')\n",
    "df_calendar_bos.reset_index()\n",
    "df_calendar_bos = df_calendar_bos.set_index('period')"
   ]
  },
  {
   "cell_type": "code",
   "execution_count": 24,
   "metadata": {},
   "outputs": [],
   "source": [
    "average = df_calendar_bos.groupby(['period']).count()"
   ]
  },
  {
   "cell_type": "code",
   "execution_count": 25,
   "metadata": {},
   "outputs": [
    {
     "data": {
      "text/html": [
       "<div>\n",
       "<style scoped>\n",
       "    .dataframe tbody tr th:only-of-type {\n",
       "        vertical-align: middle;\n",
       "    }\n",
       "\n",
       "    .dataframe tbody tr th {\n",
       "        vertical-align: top;\n",
       "    }\n",
       "\n",
       "    .dataframe thead th {\n",
       "        text-align: right;\n",
       "    }\n",
       "</style>\n",
       "<table border=\"1\" class=\"dataframe\">\n",
       "  <thead>\n",
       "    <tr style=\"text-align: right;\">\n",
       "      <th></th>\n",
       "      <th>listing_id</th>\n",
       "      <th>available</th>\n",
       "      <th>price</th>\n",
       "      <th>year</th>\n",
       "      <th>month</th>\n",
       "      <th>day</th>\n",
       "    </tr>\n",
       "    <tr>\n",
       "      <th>period</th>\n",
       "      <th></th>\n",
       "      <th></th>\n",
       "      <th></th>\n",
       "      <th></th>\n",
       "      <th></th>\n",
       "      <th></th>\n",
       "    </tr>\n",
       "  </thead>\n",
       "  <tbody>\n",
       "    <tr>\n",
       "      <th>2016-09</th>\n",
       "      <td>89650</td>\n",
       "      <td>89650</td>\n",
       "      <td>24401</td>\n",
       "      <td>89650</td>\n",
       "      <td>89650</td>\n",
       "      <td>89650</td>\n",
       "    </tr>\n",
       "    <tr>\n",
       "      <th>2016-10</th>\n",
       "      <td>111166</td>\n",
       "      <td>111166</td>\n",
       "      <td>46345</td>\n",
       "      <td>111166</td>\n",
       "      <td>111166</td>\n",
       "      <td>111166</td>\n",
       "    </tr>\n",
       "    <tr>\n",
       "      <th>2016-11</th>\n",
       "      <td>107580</td>\n",
       "      <td>107580</td>\n",
       "      <td>58888</td>\n",
       "      <td>107580</td>\n",
       "      <td>107580</td>\n",
       "      <td>107580</td>\n",
       "    </tr>\n",
       "    <tr>\n",
       "      <th>2016-12</th>\n",
       "      <td>111166</td>\n",
       "      <td>111166</td>\n",
       "      <td>60997</td>\n",
       "      <td>111166</td>\n",
       "      <td>111166</td>\n",
       "      <td>111166</td>\n",
       "    </tr>\n",
       "    <tr>\n",
       "      <th>2017-01</th>\n",
       "      <td>111166</td>\n",
       "      <td>111166</td>\n",
       "      <td>63181</td>\n",
       "      <td>111166</td>\n",
       "      <td>111166</td>\n",
       "      <td>111166</td>\n",
       "    </tr>\n",
       "    <tr>\n",
       "      <th>2017-02</th>\n",
       "      <td>100408</td>\n",
       "      <td>100408</td>\n",
       "      <td>56810</td>\n",
       "      <td>100408</td>\n",
       "      <td>100408</td>\n",
       "      <td>100408</td>\n",
       "    </tr>\n",
       "    <tr>\n",
       "      <th>2017-03</th>\n",
       "      <td>111166</td>\n",
       "      <td>111166</td>\n",
       "      <td>55181</td>\n",
       "      <td>111166</td>\n",
       "      <td>111166</td>\n",
       "      <td>111166</td>\n",
       "    </tr>\n",
       "    <tr>\n",
       "      <th>2017-04</th>\n",
       "      <td>107580</td>\n",
       "      <td>107580</td>\n",
       "      <td>51382</td>\n",
       "      <td>107580</td>\n",
       "      <td>107580</td>\n",
       "      <td>107580</td>\n",
       "    </tr>\n",
       "    <tr>\n",
       "      <th>2017-05</th>\n",
       "      <td>111166</td>\n",
       "      <td>111166</td>\n",
       "      <td>53600</td>\n",
       "      <td>111166</td>\n",
       "      <td>111166</td>\n",
       "      <td>111166</td>\n",
       "    </tr>\n",
       "    <tr>\n",
       "      <th>2017-06</th>\n",
       "      <td>107580</td>\n",
       "      <td>107580</td>\n",
       "      <td>52731</td>\n",
       "      <td>107580</td>\n",
       "      <td>107580</td>\n",
       "      <td>107580</td>\n",
       "    </tr>\n",
       "    <tr>\n",
       "      <th>2017-07</th>\n",
       "      <td>111166</td>\n",
       "      <td>111166</td>\n",
       "      <td>54963</td>\n",
       "      <td>111166</td>\n",
       "      <td>111166</td>\n",
       "      <td>111166</td>\n",
       "    </tr>\n",
       "    <tr>\n",
       "      <th>2017-08</th>\n",
       "      <td>111166</td>\n",
       "      <td>111166</td>\n",
       "      <td>55561</td>\n",
       "      <td>111166</td>\n",
       "      <td>111166</td>\n",
       "      <td>111166</td>\n",
       "    </tr>\n",
       "    <tr>\n",
       "      <th>2017-09</th>\n",
       "      <td>17930</td>\n",
       "      <td>17930</td>\n",
       "      <td>8997</td>\n",
       "      <td>17930</td>\n",
       "      <td>17930</td>\n",
       "      <td>17930</td>\n",
       "    </tr>\n",
       "  </tbody>\n",
       "</table>\n",
       "</div>"
      ],
      "text/plain": [
       "         listing_id  available  price    year   month     day\n",
       "period                                                       \n",
       "2016-09       89650      89650  24401   89650   89650   89650\n",
       "2016-10      111166     111166  46345  111166  111166  111166\n",
       "2016-11      107580     107580  58888  107580  107580  107580\n",
       "2016-12      111166     111166  60997  111166  111166  111166\n",
       "2017-01      111166     111166  63181  111166  111166  111166\n",
       "2017-02      100408     100408  56810  100408  100408  100408\n",
       "2017-03      111166     111166  55181  111166  111166  111166\n",
       "2017-04      107580     107580  51382  107580  107580  107580\n",
       "2017-05      111166     111166  53600  111166  111166  111166\n",
       "2017-06      107580     107580  52731  107580  107580  107580\n",
       "2017-07      111166     111166  54963  111166  111166  111166\n",
       "2017-08      111166     111166  55561  111166  111166  111166\n",
       "2017-09       17930      17930   8997   17930   17930   17930"
      ]
     },
     "execution_count": 25,
     "metadata": {},
     "output_type": "execute_result"
    }
   ],
   "source": [
    "average"
   ]
  },
  {
   "cell_type": "code",
   "execution_count": 15,
   "metadata": {},
   "outputs": [],
   "source": [
    "average = df_calendar_bos.groupby(['period'])['price'].mean()"
   ]
  },
  {
   "cell_type": "code",
   "execution_count": 16,
   "metadata": {},
   "outputs": [
    {
     "data": {
      "text/plain": [
       "period\n",
       "2016-09    252.677308\n",
       "2016-10    233.416248\n",
       "2016-11    202.924416\n",
       "2016-12    192.601915\n",
       "2017-01    182.799671\n",
       "2017-02    180.961028\n",
       "2017-03    181.818742\n",
       "2017-04    197.252890\n",
       "2017-05    193.712295\n",
       "2017-06    196.535302\n",
       "2017-07    202.486309\n",
       "2017-08    203.330142\n",
       "2017-09    194.658331\n",
       "Name: price, dtype: float64"
      ]
     },
     "execution_count": 16,
     "metadata": {},
     "output_type": "execute_result"
    }
   ],
   "source": [
    "average"
   ]
  },
  {
   "cell_type": "code",
   "execution_count": 17,
   "metadata": {},
   "outputs": [
    {
     "data": {
      "text/plain": [
       "<AxesSubplot:xlabel='period', ylabel='price'>"
      ]
     },
     "execution_count": 17,
     "metadata": {},
     "output_type": "execute_result"
    },
    {
     "data": {
      "image/png": "[encoded data removed]",
      "text/plain": [
       "<Figure size 1080x576 with 1 Axes>"
      ]
     },
     "metadata": {
      "needs_background": "light"
     },
     "output_type": "display_data"
    }
   ],
   "source": [
    "plt.figure(figsize=(15,8))\n",
    "\n",
    "sns.lineplot(data = average)"
   ]
  },
  {
   "cell_type": "code",
   "execution_count": 18,
   "metadata": {},
   "outputs": [],
   "source": [
    "available_room = df_calendar_bos.groupby(['period']).count().listing_id\n",
    "#available_room = df_calendar_bos.set_index(\"date\")"
   ]
  },
  {
   "cell_type": "code",
   "execution_count": 19,
   "metadata": {},
   "outputs": [
    {
     "data": {
      "text/plain": [
       "period\n",
       "2016-09     89650\n",
       "2016-10    111166\n",
       "2016-11    107580\n",
       "2016-12    111166\n",
       "2017-01    111166\n",
       "2017-02    100408\n",
       "2017-03    111166\n",
       "2017-04    107580\n",
       "2017-05    111166\n",
       "2017-06    107580\n",
       "2017-07    111166\n",
       "2017-08    111166\n",
       "2017-09     17930\n",
       "Name: listing_id, dtype: int64"
      ]
     },
     "execution_count": 19,
     "metadata": {},
     "output_type": "execute_result"
    }
   ],
   "source": [
    "available_room"
   ]
  },
  {
   "cell_type": "code",
   "execution_count": 21,
   "metadata": {},
   "outputs": [
    {
     "data": {
      "text/plain": [
       "<AxesSubplot:xlabel='period', ylabel='listing_id'>"
      ]
     },
     "execution_count": 21,
     "metadata": {},
     "output_type": "execute_result"
    },
    {
     "data": {
      "image/png": "[encoded data removed]",
      "text/plain": [
       "<Figure size 1080x576 with 1 Axes>"
      ]
     },
     "metadata": {
      "needs_background": "light"
     },
     "output_type": "display_data"
    }
   ],
   "source": [
    "plt.figure(figsize=(15,8))\n",
    "sns.lineplot(data = available_room)"
   ]
  },
  {
   "cell_type": "code",
   "execution_count": null,
   "metadata": {},
   "outputs": [],
   "source": []
  }
 ],
 "metadata": {
  "kernelspec": {
   "display_name": "Python 3",
   "language": "python",
   "name": "python3"
  },
  "language_info": {
   "codemirror_mode": {
    "name": "ipython",
    "version": 3
   },
   "file_extension": ".py",
   "mimetype": "text/x-python",
   "name": "python",
   "nbconvert_exporter": "python",
   "pygments_lexer": "ipython3",
   "version": "3.8.5"
  }
 },
 "nbformat": 4,
 "nbformat_minor": 4
}
